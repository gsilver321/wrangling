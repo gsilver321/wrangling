{
  "cells": [
    {
      "cell_type": "markdown",
      "metadata": {
        "id": "view-in-github",
        "colab_type": "text"
      },
      "source": [
        "<a href=\"https://colab.research.google.com/github/gsilver321/wrangling/blob/main/assignment.ipynb\" target=\"_parent\"><img src=\"https://colab.research.google.com/assets/colab-badge.svg\" alt=\"Open In Colab\"/></a>"
      ]
    },
    {
      "cell_type": "markdown",
      "id": "13ad028b-72b7-43ed-aa78-96fd4e518040",
      "metadata": {
        "id": "13ad028b-72b7-43ed-aa78-96fd4e518040"
      },
      "source": [
        "# Assignment: Data Wrangling\n",
        "## `! git clone https://github.com/DS3001/wrangling`\n",
        "\n",
        "## Do Q2, and one of Q1 or Q3."
      ]
    },
    {
      "cell_type": "markdown",
      "id": "5735a4d4-8be8-433a-a351-70eb8002e632",
      "metadata": {
        "id": "5735a4d4-8be8-433a-a351-70eb8002e632"
      },
      "source": [
        "**Q1.** Open the \"tidy_data.pdf\" document in the repo, which is a paper called Tidy Data by Hadley Wickham.\n",
        "\n",
        "  1. Read the abstract. What is this paper about?\n",
        "\n",
        "  This paper focuses on data tidying, which is a subset of the data cleaning process. It describes how using this framework can provide tidy and consistent data structures that are easy to analyze/visualize.\n",
        "\n",
        "  2. Read the introduction. What is the \"tidy data standard\" intended to accomplish?\n",
        "\n",
        "  The \"tidy data standard\" intends to facilitate data exploration and analysis. By providing a standardized way to clean data, cleaning data should become easier.\n",
        "\n",
        "  3. Read the intro to section 2. What does this sentence mean: \"Like families, tidy datasets are all alike but every messy dataset is messy in its own way.\" What does this sentence mean: \"For a given dataset, it’s usually easy to figure out what are observations and what are variables, but it is surprisingly difficult to precisely define variables and observations in general.\"\n",
        "\n",
        "  The first sentence is trying to illustrate that while tidy datasets all share similar traits due to their standardized cleaning process, messy datasets might have their own unique challenges that distinguish them from other datasets and make cleaning harder. The second sentence is describing how it's often easy to visualize data with a matrix (i.e. rows=observations, columns=variables), but understanding what the values are actually describing can be difficult because the table was created with a specific purpose in mind. Someone who is just looking at the data for the first time might not be able to discern the true meaning behind the data names, making data cleaning difficult.\n",
        "\n",
        "  4. Read Section 2.2. How does Wickham define values, variables, and observations?\n",
        "\n",
        "  Wickham defines values as numbers or strings, variables as all values that measure the same attribute across units, and observations as all values measured on the same unit across attributes.\n",
        "\n",
        "  5. How is \"Tidy Data\" defined in section 2.3?\n",
        "\n",
        "  \"Tidy Data\" is defined as a dataset where each variable forms a column, each observation forms a row, and each type of observational unit forms a table.\n",
        "\n",
        "  6. Read the intro to Section 3 and Section 3.1. What are the 5 most common problems with messy datasets? Why are the data in Table 4 messy? What is \"melting\" a dataset?\n",
        "\n",
        "  The five most common problems with messy datasets are column headers that are values and not variable names, multiple variables being stored in one column, variables being stored in both rows and columns, multiple types of observational units being stored in the same table, and a single observational unit being stored in multiple tables. The data in Table 4 is messy because the column names are values that the variable could take (e.g. $10-20k) instead of a variable name like income. \"Melting\" a dataset involves turning column variables into rows.\n",
        "\n",
        "  7. Why, specifically, is table 11 messy but table 12 tidy and \"molten\"?\n",
        "\n",
        "  Table 11 is messy because it lists different days (d1-d8) as column headers when they should all be grouped under a single variable or placed in their own respective table. Table 12a is \"molten\" because it condenses the days into a variable called date. By removing the variable names from the element category in Table 12a, we get a tidy Table 12b where the table entries are attributes instead of variable names.\n",
        "\n",
        "  8. Read Section 6. What is the \"chicken-and-egg\" problem with focusing on tidy data? What does Wickham hope happens in the future with further work on the subject of data wrangling?\n",
        "\n",
        "  When tidying data, the \"chicken-and-egg\" problem can be described by the link between tidy data and the tools that use tidy data. If tidy data is only as useful as the tools that work with it, then those tools will be promoted instead of the tidy data cleaning approach. Wickham hopes that in the future, the tidy data framework will help others create better tools and data storage strategies."
      ]
    },
    {
      "cell_type": "markdown",
      "id": "da879ea7-8aac-48a3-b6c2-daea56d2e072",
      "metadata": {
        "id": "da879ea7-8aac-48a3-b6c2-daea56d2e072"
      },
      "source": [
        "**Q2.** This question provides some practice cleaning variables which have common problems.\n",
        "1. Numeric variable: For `./data/airbnb_hw.csv`, clean the `Price` variable as well as you can, and explain the choices you make. How many missing values do you end up with? (Hint: What happens to the formatting when a price goes over 999 dollars, say from 675 to 1,112?)"
      ]
    },
    {
      "cell_type": "code",
      "source": [
        "import pandas as pd\n",
        "import numpy as np\n",
        "\n",
        "! git clone https://github.com/DS3001/wrangling"
      ],
      "metadata": {
        "colab": {
          "base_uri": "https://localhost:8080/"
        },
        "id": "4tzmE-DZntDX",
        "outputId": "51878f29-a46a-46ce-b81b-ffdd3d6e2953"
      },
      "id": "4tzmE-DZntDX",
      "execution_count": null,
      "outputs": [
        {
          "output_type": "stream",
          "name": "stdout",
          "text": [
            "Cloning into 'wrangling'...\n",
            "remote: Enumerating objects: 75, done.\u001b[K\n",
            "remote: Counting objects: 100% (36/36), done.\u001b[K\n",
            "remote: Compressing objects: 100% (26/26), done.\u001b[K\n",
            "remote: Total 75 (delta 27), reused 13 (delta 10), pack-reused 39\u001b[K\n",
            "Receiving objects: 100% (75/75), 6.25 MiB | 16.80 MiB/s, done.\n",
            "Resolving deltas: 100% (33/33), done.\n"
          ]
        }
      ]
    },
    {
      "cell_type": "code",
      "source": [
        "df = pd.read_csv('wrangling/assignment/data/airbnb_hw.csv', low_memory=False)\n",
        "price = df['Price']\n",
        "\n",
        "print(\"Initial type of price data:\", type(price[0])) # nums in df were imported as strings\n",
        "\n",
        "price = price.str.replace(',','') # remove any commas for numbers over 1000\n",
        "price = pd.to_numeric(price, errors='coerce') # convert strings to ints\n",
        "\n",
        "print(\"Ending type of price data:\", type(price[0]))\n",
        "print(\"Number of missing values:\", sum(price.isnull())) # count missing vals in df"
      ],
      "metadata": {
        "id": "eyrgpOZKfgFg",
        "outputId": "3fbb690b-c70c-416e-8d94-00dc9c2463a0",
        "colab": {
          "base_uri": "https://localhost:8080/"
        }
      },
      "id": "eyrgpOZKfgFg",
      "execution_count": null,
      "outputs": [
        {
          "output_type": "stream",
          "name": "stdout",
          "text": [
            "Initial type of price data: <class 'str'>\n",
            "Ending type of price data: <class 'numpy.int64'>\n",
            "Number of missing values: 0\n"
          ]
        }
      ]
    },
    {
      "cell_type": "markdown",
      "source": [
        "2. Categorical variable: For the `./data/sharks.csv` data covered in the lecture, clean the \"Type\" variable as well as you can, and explain the choices you make."
      ],
      "metadata": {
        "id": "8ct5EAwdPj5z"
      },
      "id": "8ct5EAwdPj5z"
    },
    {
      "cell_type": "code",
      "source": [
        "df = pd.read_csv('wrangling/assignment/data/sharks.csv', low_memory=False)\n",
        "print(df['Type'].value_counts(), '\\n') # lots of duplicate types. Boat same as boating, watercraft, etc.\n",
        "\n",
        "df['Type'] = df['Type'].replace(['Sea Disaster', 'Boat','Boating','Boatomg'],'Watercraft') # group similar types into watercraft category\n",
        "df['Type'] = df['Type'].replace(['Invalid', 'Questionable','Unconfirmed','Unverified','Under investigation'], np.nan) # remove invalid/unclean data\n",
        "\n",
        "print('--------------------------- After cleaning')\n",
        "df['Type'].value_counts()\n"
      ],
      "metadata": {
        "id": "UXB70oJ1mrKF",
        "colab": {
          "base_uri": "https://localhost:8080/"
        },
        "outputId": "6435a01c-8fb5-4c0d-e6ef-49bb9779da6a"
      },
      "id": "UXB70oJ1mrKF",
      "execution_count": null,
      "outputs": [
        {
          "output_type": "stream",
          "name": "stdout",
          "text": [
            "Unprovoked             4716\n",
            "Provoked                593\n",
            "Invalid                 552\n",
            "Sea Disaster            239\n",
            "Watercraft              142\n",
            "Boat                    109\n",
            "Boating                  92\n",
            "Questionable             10\n",
            "Unconfirmed               1\n",
            "Unverified                1\n",
            "Under investigation       1\n",
            "Boatomg                   1\n",
            "Name: Type, dtype: int64 \n",
            "\n",
            "--------------------------- After cleaning\n"
          ]
        },
        {
          "output_type": "execute_result",
          "data": {
            "text/plain": [
              "Unprovoked    4716\n",
              "Provoked       593\n",
              "Watercraft     583\n",
              "Name: Type, dtype: int64"
            ]
          },
          "metadata": {},
          "execution_count": 3
        }
      ]
    },
    {
      "cell_type": "markdown",
      "source": [
        "3. Dummy variable: For the pretrial data covered in the lecture, clean the `WhetherDefendantWasReleasedPretrial` variable as well as you can, and, in particular, replace missing values with `np.nan`."
      ],
      "metadata": {
        "id": "0Ho-nph7Pqki"
      },
      "id": "0Ho-nph7Pqki"
    },
    {
      "cell_type": "code",
      "source": [
        "df = pd.read_csv('http://www.vcsc.virginia.gov/pretrialdataproject/October%202017%20Cohort_Virginia%20Pretrial%20Data%20Project_Deidentified%20FINAL%20Update_10272021.csv', low_memory=False)\n",
        "print(df['WhetherDefendantWasReleasedPretrial'].value_counts(),'\\n')\n",
        "\n",
        "df['WhetherDefendantWasReleasedPretrial'] = df['WhetherDefendantWasReleasedPretrial'].replace(9, np.nan) # code 9 indicates insufficient/missing information which is unclean data\n",
        "\n",
        "print('--------------------------- After cleaning')\n",
        "df['WhetherDefendantWasReleasedPretrial'].value_counts()\n"
      ],
      "metadata": {
        "colab": {
          "base_uri": "https://localhost:8080/"
        },
        "id": "R7GGnm61iwx1",
        "outputId": "d6f002e6-6adb-4bd5-9c9c-ee7f0caa68a3"
      },
      "id": "R7GGnm61iwx1",
      "execution_count": null,
      "outputs": [
        {
          "output_type": "stream",
          "name": "stdout",
          "text": [
            "1    19154\n",
            "0     3801\n",
            "9       31\n",
            "Name: WhetherDefendantWasReleasedPretrial, dtype: int64 \n",
            "\n",
            "--------------------------- After cleaning\n"
          ]
        },
        {
          "output_type": "execute_result",
          "data": {
            "text/plain": [
              "1.0    19154\n",
              "0.0     3801\n",
              "Name: WhetherDefendantWasReleasedPretrial, dtype: int64"
            ]
          },
          "metadata": {},
          "execution_count": 6
        }
      ]
    },
    {
      "cell_type": "markdown",
      "source": [
        "4. Missing values, not at random: For the pretrial data covered in the lecture, clean the `ImposedSentenceAllChargeInContactEvent` variable as well as you can, and explain the choices you make. (Hint: Look at the `SentenceTypeAllChargesAtConvictionInContactEvent` variable.)"
      ],
      "metadata": {
        "id": "GIg9T1kcPu7k"
      },
      "id": "GIg9T1kcPu7k"
    },
    {
      "cell_type": "code",
      "source": [
        "imposed = df['ImposedSentenceAllChargeInContactEvent']\n",
        "print(\"Initial type of data:\", type(imposed[0])) # data imported as strings with some missing values\n",
        "\n",
        "imposed = pd.to_numeric(imposed, errors='coerce') # convert strings to numeric and replace missing values with nan\n",
        "\n",
        "print(\"Initial number of missing values:\", sum(imposed.isnull())) # lots of missing values, additional cleaning needed\n",
        "print('----------------------------------------- Pre Analysis\\n')\n",
        "\n",
        "print(pd.crosstab(imposed.isnull(), df['SentenceTypeAllChargesAtConvictionInContactEvent']), '\\n') # code 4 indicates pending/dismissed/deferred charges\n",
        "imposed = imposed.mask(df['SentenceTypeAllChargesAtConvictionInContactEvent'] == 4, 0) # remove imposed sentence when case was dismissed\n",
        "imposed = imposed.mask(df['SentenceTypeAllChargesAtConvictionInContactEvent'] == 9, np.nan) # code 9 indicates no sentencing record found which is unclean data\n",
        "\n",
        "print('----------------------------------------- Post Analysis\\n')\n",
        "\n",
        "print(pd.crosstab(imposed.isnull(), df['SentenceTypeAllChargesAtConvictionInContactEvent']), '\\n')\n",
        "print(\"Cleaned data type:\", type(imposed[0]))\n",
        "print(\"Ending number of missing values:\", sum(imposed.isnull()))"
      ],
      "metadata": {
        "colab": {
          "base_uri": "https://localhost:8080/"
        },
        "id": "Cy8G9kPh1IS9",
        "outputId": "8c326a5a-324a-4f76-866a-28a7c6ea076f"
      },
      "id": "Cy8G9kPh1IS9",
      "execution_count": 36,
      "outputs": [
        {
          "output_type": "stream",
          "name": "stdout",
          "text": [
            "Initial type of data: <class 'str'>\n",
            "Initial number of missing values: 9053\n",
            "----------------------------------------- Pre Analysis\n",
            "\n",
            "SentenceTypeAllChargesAtConvictionInContactEvent     0     1    2     4    9\n",
            "ImposedSentenceAllChargeInContactEvent                                      \n",
            "False                                             8720  4299  914     0    0\n",
            "True                                                 0     0    0  8779  274 \n",
            "\n",
            "----------------------------------------- Post Analysis\n",
            "\n",
            "SentenceTypeAllChargesAtConvictionInContactEvent     0     1    2     4    9\n",
            "ImposedSentenceAllChargeInContactEvent                                      \n",
            "False                                             8720  4299  914  8779    0\n",
            "True                                                 0     0    0     0  274 \n",
            "\n",
            "Cleaned data type: <class 'numpy.float64'>\n",
            "Ending number of missing values: 274\n"
          ]
        }
      ]
    },
    {
      "cell_type": "markdown",
      "id": "649494cd-cfd6-4f80-992a-9994fc19e1d5",
      "metadata": {
        "id": "649494cd-cfd6-4f80-992a-9994fc19e1d5"
      },
      "source": [
        "**Q3.** Many important datasets contain a race variable, typically limited to a handful of values often including Black, White, Asian, Latino, and Indigenous. This question looks at data gathering efforts on this variable by the U.S. Federal government.\n",
        "\n",
        "1. How did the most recent US Census gather data on race?\n",
        "2. Why do we gather these data? What role do these kinds of data play in politics and society? Why does data quality matter?\n",
        "3. Please provide a constructive criticism of how the Census was conducted: What was done well? What do you think was missing? How should future large scale surveys be adjusted to best reflect the diversity of the population? Could some of the Census' good practices be adopted more widely to gather richer and more useful data?\n",
        "4. How did the Census gather data on sex and gender? Please provide a similar constructive criticism of their practices.\n",
        "5. When it comes to cleaning data, what concerns do you have about protected characteristics like sex, gender, sexual identity, or race? What challenges can you imagine arising when there are missing values? What good or bad practices might people adopt, and why?\n",
        "6. Suppose someone invented an algorithm to impute values for protected characteristics like race, gender, sex, or sexuality. What kinds of concerns would you have?"
      ]
    }
  ],
  "metadata": {
    "colab": {
      "provenance": [],
      "include_colab_link": true
    },
    "kernelspec": {
      "display_name": "Python 3 (ipykernel)",
      "language": "python",
      "name": "python3"
    },
    "language_info": {
      "codemirror_mode": {
        "name": "ipython",
        "version": 3
      },
      "file_extension": ".py",
      "mimetype": "text/x-python",
      "name": "python",
      "nbconvert_exporter": "python",
      "pygments_lexer": "ipython3",
      "version": "3.10.4"
    }
  },
  "nbformat": 4,
  "nbformat_minor": 5
}